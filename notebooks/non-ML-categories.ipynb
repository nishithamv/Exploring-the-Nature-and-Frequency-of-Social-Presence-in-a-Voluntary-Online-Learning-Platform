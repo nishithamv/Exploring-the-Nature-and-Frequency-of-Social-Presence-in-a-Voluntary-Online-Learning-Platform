{
 "cells": [
  {
   "cell_type": "code",
   "execution_count": 1,
   "metadata": {},
   "outputs": [],
   "source": [
    "import numpy as np\n",
    "import pandas as pd\n",
    "import os\n",
    "import re\n",
    "from nltk.stem import PorterStemmer"
   ]
  },
  {
   "cell_type": "code",
   "execution_count": 2,
   "metadata": {},
   "outputs": [
    {
     "data": {
      "text/html": [
       "<div>\n",
       "<style scoped>\n",
       "    .dataframe tbody tr th:only-of-type {\n",
       "        vertical-align: middle;\n",
       "    }\n",
       "\n",
       "    .dataframe tbody tr th {\n",
       "        vertical-align: top;\n",
       "    }\n",
       "\n",
       "    .dataframe thead th {\n",
       "        text-align: right;\n",
       "    }\n",
       "</style>\n",
       "<table border=\"1\" class=\"dataframe\">\n",
       "  <thead>\n",
       "    <tr style=\"text-align: right;\">\n",
       "      <th></th>\n",
       "      <th>web-scraper-order</th>\n",
       "      <th>text</th>\n",
       "      <th>section</th>\n",
       "      <th>topic</th>\n",
       "      <th>urls</th>\n",
       "      <th>userMentions</th>\n",
       "      <th>isReply</th>\n",
       "      <th>emojis</th>\n",
       "    </tr>\n",
       "  </thead>\n",
       "  <tbody>\n",
       "    <tr>\n",
       "      <th>0</th>\n",
       "      <td>1604198576-694</td>\n",
       "      <td>Hello - yes to the above suggestions. Please p...</td>\n",
       "      <td>bugreports</td>\n",
       "      <td>Emails from Zooniverse projects now fail to ar...</td>\n",
       "      <td>https://status.zooniverse.org</td>\n",
       "      <td>NaN</td>\n",
       "      <td>NaN</td>\n",
       "      <td>NaN</td>\n",
       "    </tr>\n",
       "    <tr>\n",
       "      <th>1</th>\n",
       "      <td>1604198689-999</td>\n",
       "      <td>hey @team , why is there  audio in the field g...</td>\n",
       "      <td>bugreports</td>\n",
       "      <td>audio in field guide</td>\n",
       "      <td>NaN</td>\n",
       "      <td>@team</td>\n",
       "      <td>NaN</td>\n",
       "      <td>NaN</td>\n",
       "    </tr>\n",
       "    <tr>\n",
       "      <th>2</th>\n",
       "      <td>1604198607-767</td>\n",
       "      <td>I should say, you have to be trying to go from...</td>\n",
       "      <td>bugreports</td>\n",
       "      <td>Frame 4 button</td>\n",
       "      <td>NaN</td>\n",
       "      <td>NaN</td>\n",
       "      <td>NaN</td>\n",
       "      <td>NaN</td>\n",
       "    </tr>\n",
       "    <tr>\n",
       "      <th>3</th>\n",
       "      <td>1604198528-563</td>\n",
       "      <td>I believe that there are some problems at the ...</td>\n",
       "      <td>bugreports</td>\n",
       "      <td>Possible level-up bug</td>\n",
       "      <td>NaN</td>\n",
       "      <td>NaN</td>\n",
       "      <td>NaN</td>\n",
       "      <td>NaN</td>\n",
       "    </tr>\n",
       "    <tr>\n",
       "      <th>4</th>\n",
       "      <td>1604198895-1630</td>\n",
       "      <td>Thank you for flagging this and your construct...</td>\n",
       "      <td>bugreports</td>\n",
       "      <td>Opting out of the level-up popups?</td>\n",
       "      <td>https://github.com/zooniverse/Panoptes-Front-E...</td>\n",
       "      <td>NaN</td>\n",
       "      <td>NaN</td>\n",
       "      <td>NaN</td>\n",
       "    </tr>\n",
       "    <tr>\n",
       "      <th>...</th>\n",
       "      <td>...</td>\n",
       "      <td>...</td>\n",
       "      <td>...</td>\n",
       "      <td>...</td>\n",
       "      <td>...</td>\n",
       "      <td>...</td>\n",
       "      <td>...</td>\n",
       "      <td>...</td>\n",
       "    </tr>\n",
       "    <tr>\n",
       "      <th>90496</th>\n",
       "      <td>1604198211-259</td>\n",
       "      <td>Scattered Light comes in many, many guises in ...</td>\n",
       "      <td>virgo</td>\n",
       "      <td>Virgo O3 glitch classes (placeholder)</td>\n",
       "      <td>/projects/zooniverse/gravity-spy/talk/subjects...</td>\n",
       "      <td>NaN</td>\n",
       "      <td>True</td>\n",
       "      <td>NaN</td>\n",
       "    </tr>\n",
       "    <tr>\n",
       "      <th>90497</th>\n",
       "      <td>1604198222-261</td>\n",
       "      <td>For proposing new Virgo glitch classes, please...</td>\n",
       "      <td>virgo</td>\n",
       "      <td>Process for Making New Virgo Classes Official</td>\n",
       "      <td>https://www.zooniverse.org/projects/zooniverse...</td>\n",
       "      <td>NaN</td>\n",
       "      <td>NaN</td>\n",
       "      <td>NaN</td>\n",
       "    </tr>\n",
       "    <tr>\n",
       "      <th>90498</th>\n",
       "      <td>1604198211-260</td>\n",
       "      <td>Horizontal lines at medium to high frequencies...</td>\n",
       "      <td>virgo</td>\n",
       "      <td>Virgo O3 glitch classes (placeholder)</td>\n",
       "      <td>/projects/zooniverse/gravity-spy/talk/subjects...</td>\n",
       "      <td>NaN</td>\n",
       "      <td>True</td>\n",
       "      <td>NaN</td>\n",
       "    </tr>\n",
       "    <tr>\n",
       "      <th>90499</th>\n",
       "      <td>1604198211-257</td>\n",
       "      <td>On a related note, @dziakj1 has discovered (an...</td>\n",
       "      <td>virgo</td>\n",
       "      <td>Virgo O3 glitch classes (placeholder)</td>\n",
       "      <td>/projects/zooniverse/gravity-spy/talk/subjects...</td>\n",
       "      <td>@dziakj1</td>\n",
       "      <td>True</td>\n",
       "      <td>NaN</td>\n",
       "    </tr>\n",
       "    <tr>\n",
       "      <th>90500</th>\n",
       "      <td>1604198211-255</td>\n",
       "      <td>Hello,\\nThis is amazing! Thank you so much for...</td>\n",
       "      <td>virgo</td>\n",
       "      <td>Virgo O3 glitch classes (placeholder)</td>\n",
       "      <td>NaN</td>\n",
       "      <td>NaN</td>\n",
       "      <td>NaN</td>\n",
       "      <td>NaN</td>\n",
       "    </tr>\n",
       "  </tbody>\n",
       "</table>\n",
       "<p>90501 rows × 8 columns</p>\n",
       "</div>"
      ],
      "text/plain": [
       "      web-scraper-order                                               text  \\\n",
       "0        1604198576-694  Hello - yes to the above suggestions. Please p...   \n",
       "1        1604198689-999  hey @team , why is there  audio in the field g...   \n",
       "2        1604198607-767  I should say, you have to be trying to go from...   \n",
       "3        1604198528-563  I believe that there are some problems at the ...   \n",
       "4       1604198895-1630  Thank you for flagging this and your construct...   \n",
       "...                 ...                                                ...   \n",
       "90496    1604198211-259  Scattered Light comes in many, many guises in ...   \n",
       "90497    1604198222-261  For proposing new Virgo glitch classes, please...   \n",
       "90498    1604198211-260  Horizontal lines at medium to high frequencies...   \n",
       "90499    1604198211-257  On a related note, @dziakj1 has discovered (an...   \n",
       "90500    1604198211-255  Hello,\\nThis is amazing! Thank you so much for...   \n",
       "\n",
       "          section                                              topic  \\\n",
       "0      bugreports  Emails from Zooniverse projects now fail to ar...   \n",
       "1      bugreports                               audio in field guide   \n",
       "2      bugreports                                     Frame 4 button   \n",
       "3      bugreports                              Possible level-up bug   \n",
       "4      bugreports                 Opting out of the level-up popups?   \n",
       "...           ...                                                ...   \n",
       "90496       virgo              Virgo O3 glitch classes (placeholder)   \n",
       "90497       virgo      Process for Making New Virgo Classes Official   \n",
       "90498       virgo              Virgo O3 glitch classes (placeholder)   \n",
       "90499       virgo              Virgo O3 glitch classes (placeholder)   \n",
       "90500       virgo              Virgo O3 glitch classes (placeholder)   \n",
       "\n",
       "                                                    urls userMentions isReply  \\\n",
       "0                          https://status.zooniverse.org          NaN     NaN   \n",
       "1                                                    NaN        @team     NaN   \n",
       "2                                                    NaN          NaN     NaN   \n",
       "3                                                    NaN          NaN     NaN   \n",
       "4      https://github.com/zooniverse/Panoptes-Front-E...          NaN     NaN   \n",
       "...                                                  ...          ...     ...   \n",
       "90496  /projects/zooniverse/gravity-spy/talk/subjects...          NaN    True   \n",
       "90497  https://www.zooniverse.org/projects/zooniverse...          NaN     NaN   \n",
       "90498  /projects/zooniverse/gravity-spy/talk/subjects...          NaN    True   \n",
       "90499  /projects/zooniverse/gravity-spy/talk/subjects...     @dziakj1    True   \n",
       "90500                                                NaN          NaN     NaN   \n",
       "\n",
       "      emojis  \n",
       "0        NaN  \n",
       "1        NaN  \n",
       "2        NaN  \n",
       "3        NaN  \n",
       "4        NaN  \n",
       "...      ...  \n",
       "90496    NaN  \n",
       "90497    NaN  \n",
       "90498    NaN  \n",
       "90499    NaN  \n",
       "90500    NaN  \n",
       "\n",
       "[90501 rows x 8 columns]"
      ]
     },
     "execution_count": 2,
     "metadata": {},
     "output_type": "execute_result"
    }
   ],
   "source": [
    "DATA_FOLDER = 'data/'\n",
    "PREDICTIONS_FOLDER = os.path.join(DATA_FOLDER, 'predictions/')\n",
    "all_data = pd.read_csv(os.path.join(DATA_FOLDER, 'all_data.csv'))\n",
    "all_data"
   ]
  },
  {
   "cell_type": "code",
   "execution_count": 3,
   "metadata": {},
   "outputs": [],
   "source": [
    "def get_predictions_agreement(df):\n",
    "    file = open(os.path.join(DATA_FOLDER, 'agreement_words.txt'), 'r+')\n",
    "    agreement_words = file.readlines()\n",
    "    file.close()\n",
    "    ps = PorterStemmer()\n",
    "    return df['text'].apply(lambda text: int(any(ps.stem(re.sub(r'\\n', '', word)) in ps.stem(re.sub(r'\\#\\S+|\\n', '', text).lower()).split() for word in agreement_words)))"
   ]
  },
  {
   "cell_type": "code",
   "execution_count": 4,
   "metadata": {},
   "outputs": [],
   "source": [
    "def get_predictions_vocatives(df):\n",
    "    return 1 - df['userMentions'].isna().astype(int)"
   ]
  },
  {
   "cell_type": "code",
   "execution_count": 5,
   "metadata": {},
   "outputs": [],
   "source": [
    "def get_predictions_group_inclusive_pronouns(df):\n",
    "    PRONOUNS = ['everybody', 'everyone', 'our', 'ours', 'ourself', 'ourselves', 'us', 'we']\n",
    "    return df['text'].apply(lambda text: int(any(word in re.sub(r'\\#\\S+|\\n', '', text).lower().split() for word in PRONOUNS)))"
   ]
  },
  {
   "cell_type": "code",
   "execution_count": 6,
   "metadata": {},
   "outputs": [],
   "source": [
    "def get_predictions_salutations(df):\n",
    "    file = open(os.path.join(DATA_FOLDER, 'salutation_words.txt'), 'r+')\n",
    "    salutation_words = file.readlines()\n",
    "    file.close()\n",
    "    return df['text'].apply(lambda text: int(any((re.sub(r'\\n', '', word) in re.sub(r'\\#\\S+|\\n', '', text).lower()) if len(word.split()) > 1 else (re.sub(r'\\n', '', word) in re.sub(r'\\#\\S+|\\n', '', text).lower().split()) for word in salutation_words)))"
   ]
  },
  {
   "cell_type": "code",
   "execution_count": 7,
   "metadata": {},
   "outputs": [
    {
     "name": "stdout",
     "output_type": "stream",
     "text": [
      "Total instances 4869\n",
      "Section distribution in positves (array(['bugreports', 'chat', 'collections', 'help', 'ligo', 'notes',\n",
      "       'science', 'virgo'], dtype=object), array([ 105,  318,  103,  431,   46, 3621,  237,    8], dtype=int64))\n"
     ]
    }
   ],
   "source": [
    "# category 4 - Continuing a thread\n",
    "positives = all_data[all_data['isReply'] == 1]\n",
    "print('Total instances', positives.shape[0])\n",
    "print('Section distribution in positves', np.unique(positives['section'], return_counts=True))"
   ]
  },
  {
   "cell_type": "code",
   "execution_count": 8,
   "metadata": {},
   "outputs": [
    {
     "name": "stdout",
     "output_type": "stream",
     "text": [
      "Total instances 3874\n",
      "Section distribution in positves (array(['bugreports', 'chat', 'collections', 'help', 'ligo', 'notes',\n",
      "       'science', 'virgo'], dtype=object), array([  35,  185,   90,  171,   56, 3234,   99,    4], dtype=int64))\n"
     ]
    }
   ],
   "source": [
    "# category 8 - Expressing agreement or disagreement\n",
    "all_data['prediction'] = get_predictions_agreement(all_data)\n",
    "positives = all_data[all_data['prediction'] == 1]\n",
    "print('Total instances', positives.shape[0])\n",
    "print('Section distribution in positves', np.unique(positives['section'], return_counts=True))\n",
    "all_data.to_csv(os.path.join(PREDICTIONS_FOLDER, 'agreement_predicted.csv'), index=False)"
   ]
  },
  {
   "cell_type": "code",
   "execution_count": 9,
   "metadata": {},
   "outputs": [
    {
     "name": "stdout",
     "output_type": "stream",
     "text": [
      "Total instances 4413\n",
      "Section distribution in positves (array(['bugreports', 'chat', 'collections', 'help', 'ligo', 'notes',\n",
      "       'science', 'virgo'], dtype=object), array([ 117,  258,  105,  306,   94, 3384,  143,    6], dtype=int64))\n"
     ]
    }
   ],
   "source": [
    "# category 9 - Vocatives\n",
    "all_data['prediction'] = get_predictions_vocatives(all_data)\n",
    "positives = all_data[all_data['prediction'] == 1]\n",
    "print('Total instances', positives.shape[0])\n",
    "print('Section distribution in positves', np.unique(positives['section'], return_counts=True))\n",
    "all_data.to_csv(os.path.join(PREDICTIONS_FOLDER, 'vocatives_predicted.csv'), index=False)"
   ]
  },
  {
   "cell_type": "code",
   "execution_count": 10,
   "metadata": {},
   "outputs": [
    {
     "name": "stdout",
     "output_type": "stream",
     "text": [
      "Total instances 1977\n",
      "Section distribution in positves (array(['bugreports', 'chat', 'collections', 'help', 'ligo', 'notes',\n",
      "       'science', 'virgo'], dtype=object), array([  54,  197,   70,  229,   42, 1208,  172,    5], dtype=int64))\n"
     ]
    }
   ],
   "source": [
    "# category 10 - Addresses or refers to the group using inclusive pronouns\n",
    "all_data['prediction'] = get_predictions_group_inclusive_pronouns(all_data)\n",
    "positives = all_data[all_data['prediction'] == 1]\n",
    "print('Total instances', positives.shape[0])\n",
    "print('Section distribution in positves', np.unique(positives['section'], return_counts=True))\n",
    "all_data.to_csv(os.path.join(PREDICTIONS_FOLDER, 'group_predicted.csv'), index=False)"
   ]
  },
  {
   "cell_type": "code",
   "execution_count": 11,
   "metadata": {},
   "outputs": [
    {
     "name": "stdout",
     "output_type": "stream",
     "text": [
      "Total instances 2283\n",
      "Section distribution in positves (array(['bugreports', 'chat', 'collections', 'help', 'ligo', 'notes',\n",
      "       'science', 'virgo'], dtype=object), array([  96,  176,   73,  259,   53, 1512,  107,    7], dtype=int64))\n"
     ]
    }
   ],
   "source": [
    "# category 11 - Phatics, salutations\n",
    "all_data['prediction'] = get_predictions_salutations(all_data)\n",
    "positives = all_data[all_data['prediction'] == 1]\n",
    "print('Total instances', positives.shape[0])\n",
    "print('Section distribution in positves', np.unique(positives['section'], return_counts=True))\n",
    "all_data.to_csv(os.path.join(PREDICTIONS_FOLDER, 'salutations_predicted.csv'), index=False)"
   ]
  }
 ],
 "metadata": {
  "kernelspec": {
   "display_name": "Python 3",
   "language": "python",
   "name": "python3"
  },
  "language_info": {
   "codemirror_mode": {
    "name": "ipython",
    "version": 3
   },
   "file_extension": ".py",
   "mimetype": "text/x-python",
   "name": "python",
   "nbconvert_exporter": "python",
   "pygments_lexer": "ipython3",
   "version": "3.7.4"
  }
 },
 "nbformat": 4,
 "nbformat_minor": 4
}
