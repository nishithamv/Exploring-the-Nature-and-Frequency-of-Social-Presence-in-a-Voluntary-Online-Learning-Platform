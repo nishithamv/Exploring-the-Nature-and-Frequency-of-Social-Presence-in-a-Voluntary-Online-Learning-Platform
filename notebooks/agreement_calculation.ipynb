{
 "cells": [
  {
   "cell_type": "code",
   "execution_count": 1,
   "metadata": {},
   "outputs": [],
   "source": [
    "import numpy as np\n",
    "import pandas as pd\n",
    "import os\n",
    "import krippendorff\n",
    "from sklearn.metrics import cohen_kappa_score"
   ]
  },
  {
   "cell_type": "code",
   "execution_count": 2,
   "metadata": {},
   "outputs": [],
   "source": [
    "def data_description(df):\n",
    "    print(df.isna().sum())\n",
    "    df.describe()"
   ]
  },
  {
   "cell_type": "code",
   "execution_count": 3,
   "metadata": {},
   "outputs": [
    {
     "name": "stdout",
     "output_type": "stream",
     "text": [
      "web-scraper-order                                        0\n",
      "text                                                     0\n",
      "section                                                  0\n",
      "topic                                                    0\n",
      "urls                                                   110\n",
      "userMentions                                           461\n",
      "isReply                                                452\n",
      "emojis                                                 480\n",
      "Expression of emotions                                 400\n",
      "Use of humor                                           400\n",
      "Self-disclosure                                        400\n",
      "Referring explicitly to others' messages               400\n",
      "Asking questions                                       400\n",
      "Complimenting, expressing appreciation or criticism    400\n",
      "Expressing agreement or disagreement                   400\n",
      "Phatics, salutations                                   400\n",
      "dtype: int64\n",
      "web-scraper-order                                        0\n",
      "text                                                     0\n",
      "section                                                  0\n",
      "topic                                                    0\n",
      "urls                                                    92\n",
      "userMentions                                           368\n",
      "isReply                                                360\n",
      "emojis                                                 385\n",
      "Expression of emotions                                 200\n",
      "Use of humor                                           200\n",
      "Self-disclosure                                        200\n",
      "Referring explicitly to others' messages               200\n",
      "Asking questions                                       200\n",
      "Complimenting, expressing appreciation or criticism    200\n",
      "Expressing agreement or disagreement                   200\n",
      "Phatics, salutations                                   200\n",
      "dtype: int64\n",
      "web-scraper-order                                        0\n",
      "text                                                     0\n",
      "section                                                  0\n",
      "topic                                                    0\n",
      "urls                                                   110\n",
      "userMentions                                           461\n",
      "isReply                                                452\n",
      "emojis                                                 480\n",
      "Expression of emotions                                 400\n",
      "Use of humor                                           400\n",
      "Self-disclosure                                        400\n",
      "Referring explicitly to others' messages               400\n",
      "Asking questions                                       400\n",
      "Complimenting, expressing appreciation or criticism    400\n",
      "Expressing agreement or disagreement                   400\n",
      "Phatics, salutations                                   400\n",
      "Hashtag                                                400\n",
      "dtype: int64\n",
      "web-scraper-order                           0\n",
      "text                                        0\n",
      "section                                     0\n",
      "topic                                       0\n",
      "urls                                       92\n",
      "userMentions                              368\n",
      "isReply                                   360\n",
      "emojis                                    385\n",
      "Expression of emotions                    200\n",
      "Use of humor                              200\n",
      "Self-disclosure                           200\n",
      "Referring to others' messages             200\n",
      "Asking questions                          200\n",
      "Complimenting, expressing appreciation    200\n",
      "Expressing agreement                      200\n",
      "Phatics salutations                       200\n",
      "dtype: int64\n",
      "web-scraper-order                                        0\n",
      "text                                                     0\n",
      "section                                                  0\n",
      "topic                                                    0\n",
      "urls                                                    92\n",
      "userMentions                                           368\n",
      "isReply                                                360\n",
      "emojis                                                 385\n",
      "Expression of emotions                                 201\n",
      "Use of humor                                           201\n",
      "Self-disclosure                                        201\n",
      "Referring explicitly to others' messages               201\n",
      "Asking questions                                       201\n",
      "Complimenting, expressing appreciation or criticism    201\n",
      "Expressing agreement or disagreement                   201\n",
      "Phatics, salutations                                   201\n",
      "dtype: int64\n"
     ]
    },
    {
     "data": {
      "text/plain": [
       "[None, None, None, None, None]"
      ]
     },
     "execution_count": 3,
     "metadata": {},
     "output_type": "execute_result"
    }
   ],
   "source": [
    "ANNOTATIONS_FOLDER = os.path.join('data', 'annotations')\n",
    "dfs = [pd.read_csv(os.path.join(ANNOTATIONS_FOLDER, file)) for file in os.listdir(ANNOTATIONS_FOLDER)]\n",
    "list(map(data_description, dfs))"
   ]
  },
  {
   "cell_type": "code",
   "execution_count": 4,
   "metadata": {},
   "outputs": [],
   "source": [
    "def get_category_df(category):\n",
    "    category_df = pd.DataFrame(dfs[0][dfs[0].columns[:8]])\n",
    "    for i, df in enumerate(dfs):\n",
    "        category_df['A' + str(i + 1)] = df[df.columns[category + 8]]\n",
    "    return category_df"
   ]
  },
  {
   "cell_type": "code",
   "execution_count": 5,
   "metadata": {},
   "outputs": [
    {
     "name": "stdout",
     "output_type": "stream",
     "text": [
      "web-scraper-order      0\n",
      "text                   0\n",
      "section                0\n",
      "topic                  0\n",
      "urls                 110\n",
      "userMentions         461\n",
      "isReply              452\n",
      "emojis               480\n",
      "A1                   400\n",
      "A2                   300\n",
      "A3                   400\n",
      "A4                   300\n",
      "A5                   301\n",
      "dtype: int64\n",
      "web-scraper-order      0\n",
      "text                   0\n",
      "section                0\n",
      "topic                  0\n",
      "urls                 110\n",
      "userMentions         461\n",
      "isReply              452\n",
      "emojis               480\n",
      "A1                   400\n",
      "A2                   300\n",
      "A3                   400\n",
      "A4                   300\n",
      "A5                   301\n",
      "dtype: int64\n",
      "web-scraper-order      0\n",
      "text                   0\n",
      "section                0\n",
      "topic                  0\n",
      "urls                 110\n",
      "userMentions         461\n",
      "isReply              452\n",
      "emojis               480\n",
      "A1                   400\n",
      "A2                   300\n",
      "A3                   400\n",
      "A4                   300\n",
      "A5                   301\n",
      "dtype: int64\n",
      "web-scraper-order      0\n",
      "text                   0\n",
      "section                0\n",
      "topic                  0\n",
      "urls                 110\n",
      "userMentions         461\n",
      "isReply              452\n",
      "emojis               480\n",
      "A1                   400\n",
      "A2                   300\n",
      "A3                   400\n",
      "A4                   300\n",
      "A5                   301\n",
      "dtype: int64\n",
      "web-scraper-order      0\n",
      "text                   0\n",
      "section                0\n",
      "topic                  0\n",
      "urls                 110\n",
      "userMentions         461\n",
      "isReply              452\n",
      "emojis               480\n",
      "A1                   400\n",
      "A2                   300\n",
      "A3                   400\n",
      "A4                   300\n",
      "A5                   301\n",
      "dtype: int64\n",
      "web-scraper-order      0\n",
      "text                   0\n",
      "section                0\n",
      "topic                  0\n",
      "urls                 110\n",
      "userMentions         461\n",
      "isReply              452\n",
      "emojis               480\n",
      "A1                   400\n",
      "A2                   300\n",
      "A3                   400\n",
      "A4                   300\n",
      "A5                   301\n",
      "dtype: int64\n",
      "web-scraper-order      0\n",
      "text                   0\n",
      "section                0\n",
      "topic                  0\n",
      "urls                 110\n",
      "userMentions         461\n",
      "isReply              452\n",
      "emojis               480\n",
      "A1                   400\n",
      "A2                   300\n",
      "A3                   400\n",
      "A4                   300\n",
      "A5                   301\n",
      "dtype: int64\n",
      "web-scraper-order      0\n",
      "text                   0\n",
      "section                0\n",
      "topic                  0\n",
      "urls                 110\n",
      "userMentions         461\n",
      "isReply              452\n",
      "emojis               480\n",
      "A1                   400\n",
      "A2                   300\n",
      "A3                   400\n",
      "A4                   300\n",
      "A5                   301\n",
      "dtype: int64\n"
     ]
    },
    {
     "data": {
      "text/plain": [
       "[None, None, None, None, None, None, None, None]"
      ]
     },
     "execution_count": 5,
     "metadata": {},
     "output_type": "execute_result"
    }
   ],
   "source": [
    "category_dfs = [get_category_df(i) for i in range(8)]\n",
    "list(map(data_description, category_dfs))"
   ]
  },
  {
   "cell_type": "code",
   "execution_count": 6,
   "metadata": {},
   "outputs": [
    {
     "data": {
      "text/plain": [
       "[0.7128962536023055,\n",
       " 0.6870126227208977,\n",
       " 0.6809644044833107,\n",
       " 0.8297008547008546,\n",
       " 0.802120103198506,\n",
       " 0.7224930362116991,\n",
       " 0.542865818684841,\n",
       " 0.7498318461055558]"
      ]
     },
     "execution_count": 6,
     "metadata": {},
     "output_type": "execute_result"
    }
   ],
   "source": [
    "# print(list(map(lambda df: cohen_kappa_score(df[df.columns[-2]].values[:100], df[df.columns[-1]].values[:100]), category_dfs)))\n",
    "list(map(lambda df: krippendorff.alpha(reliability_data=df[df.columns[-len(dfs):]].T, level_of_measurement='nominal'), category_dfs))"
   ]
  },
  {
   "cell_type": "code",
   "execution_count": 27,
   "metadata": {},
   "outputs": [
    {
     "data": {
      "text/html": [
       "<div>\n",
       "<style scoped>\n",
       "    .dataframe tbody tr th:only-of-type {\n",
       "        vertical-align: middle;\n",
       "    }\n",
       "\n",
       "    .dataframe tbody tr th {\n",
       "        vertical-align: top;\n",
       "    }\n",
       "\n",
       "    .dataframe thead th {\n",
       "        text-align: right;\n",
       "    }\n",
       "</style>\n",
       "<table border=\"1\" class=\"dataframe\">\n",
       "  <thead>\n",
       "    <tr style=\"text-align: right;\">\n",
       "      <th></th>\n",
       "      <th>web-scraper-order</th>\n",
       "      <th>text</th>\n",
       "      <th>section</th>\n",
       "      <th>topic</th>\n",
       "      <th>urls</th>\n",
       "      <th>userMentions</th>\n",
       "      <th>isReply</th>\n",
       "      <th>emojis</th>\n",
       "    </tr>\n",
       "  </thead>\n",
       "  <tbody>\n",
       "    <tr>\n",
       "      <th>267</th>\n",
       "      <td>1604696103-2385</td>\n",
       "      <td>mmmmm🤔\\n</td>\n",
       "      <td>notes</td>\n",
       "      <td>Subject 6838479</td>\n",
       "      <td>/projects/zooniverse/gravity-spy/talk/subjects...</td>\n",
       "      <td>NaN</td>\n",
       "      <td>NaN</td>\n",
       "      <td>NaN</td>\n",
       "    </tr>\n",
       "  </tbody>\n",
       "</table>\n",
       "</div>"
      ],
      "text/plain": [
       "    web-scraper-order      text section            topic  \\\n",
       "267   1604696103-2385  mmmmm🤔\\n   notes  Subject 6838479   \n",
       "\n",
       "                                                  urls userMentions isReply  \\\n",
       "267  /projects/zooniverse/gravity-spy/talk/subjects...          NaN     NaN   \n",
       "\n",
       "    emojis  \n",
       "267    NaN  "
      ]
     },
     "execution_count": 27,
     "metadata": {},
     "output_type": "execute_result"
    }
   ],
   "source": [
    "import pandas as pd\n",
    "sample_df = pd.read_csv('data/sample.csv')\n",
    "sample_df[sample_df['web-scraper-order'] == '1604696103-2385']"
   ]
  }
 ],
 "metadata": {
  "kernelspec": {
   "display_name": "Python 3",
   "language": "python",
   "name": "python3"
  },
  "language_info": {
   "codemirror_mode": {
    "name": "ipython",
    "version": 3
   },
   "file_extension": ".py",
   "mimetype": "text/x-python",
   "name": "python",
   "nbconvert_exporter": "python",
   "pygments_lexer": "ipython3",
   "version": "3.7.4"
  }
 },
 "nbformat": 4,
 "nbformat_minor": 4
}
