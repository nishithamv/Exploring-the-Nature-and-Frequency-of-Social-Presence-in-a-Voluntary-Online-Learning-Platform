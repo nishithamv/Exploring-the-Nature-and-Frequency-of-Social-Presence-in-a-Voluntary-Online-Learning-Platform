{
 "cells": [
  {
   "cell_type": "code",
   "execution_count": 19,
   "metadata": {},
   "outputs": [],
   "source": [
    "import pandas as pd\n",
    "import numpy as np"
   ]
  },
  {
   "cell_type": "code",
   "execution_count": 20,
   "metadata": {},
   "outputs": [],
   "source": [
    "data = pd.read_csv('zooniverse-online-learning-master/data/zooniverse_all_data.csv')"
   ]
  },
  {
   "cell_type": "code",
   "execution_count": 21,
   "metadata": {},
   "outputs": [
    {
     "data": {
      "text/html": [
       "<div>\n",
       "<style scoped>\n",
       "    .dataframe tbody tr th:only-of-type {\n",
       "        vertical-align: middle;\n",
       "    }\n",
       "\n",
       "    .dataframe tbody tr th {\n",
       "        vertical-align: top;\n",
       "    }\n",
       "\n",
       "    .dataframe thead th {\n",
       "        text-align: right;\n",
       "    }\n",
       "</style>\n",
       "<table border=\"1\" class=\"dataframe\">\n",
       "  <thead>\n",
       "    <tr style=\"text-align: right;\">\n",
       "      <th></th>\n",
       "      <th>web-scraper-order</th>\n",
       "      <th>text</th>\n",
       "      <th>section</th>\n",
       "      <th>topic</th>\n",
       "      <th>urls</th>\n",
       "      <th>userMentions</th>\n",
       "      <th>isReply</th>\n",
       "      <th>emojis</th>\n",
       "    </tr>\n",
       "  </thead>\n",
       "  <tbody>\n",
       "    <tr>\n",
       "      <td>0</td>\n",
       "      <td>1604198576-694</td>\n",
       "      <td>Hello - yes to the above suggestions. Please p...</td>\n",
       "      <td>bugreports</td>\n",
       "      <td>Emails from Zooniverse projects now fail to ar...</td>\n",
       "      <td>https://status.zooniverse.org</td>\n",
       "      <td>NaN</td>\n",
       "      <td>NaN</td>\n",
       "      <td>NaN</td>\n",
       "    </tr>\n",
       "    <tr>\n",
       "      <td>1</td>\n",
       "      <td>1604198689-999</td>\n",
       "      <td>hey @team , why is there  audio in the field g...</td>\n",
       "      <td>bugreports</td>\n",
       "      <td>audio in field guide</td>\n",
       "      <td>NaN</td>\n",
       "      <td>@team</td>\n",
       "      <td>NaN</td>\n",
       "      <td>NaN</td>\n",
       "    </tr>\n",
       "    <tr>\n",
       "      <td>2</td>\n",
       "      <td>1604198607-767</td>\n",
       "      <td>I should say, you have to be trying to go from...</td>\n",
       "      <td>bugreports</td>\n",
       "      <td>Frame 4 button</td>\n",
       "      <td>NaN</td>\n",
       "      <td>NaN</td>\n",
       "      <td>NaN</td>\n",
       "      <td>NaN</td>\n",
       "    </tr>\n",
       "    <tr>\n",
       "      <td>3</td>\n",
       "      <td>1604198528-563</td>\n",
       "      <td>I believe that there are some problems at the ...</td>\n",
       "      <td>bugreports</td>\n",
       "      <td>Possible level-up bug</td>\n",
       "      <td>NaN</td>\n",
       "      <td>NaN</td>\n",
       "      <td>NaN</td>\n",
       "      <td>NaN</td>\n",
       "    </tr>\n",
       "    <tr>\n",
       "      <td>4</td>\n",
       "      <td>1604198895-1630</td>\n",
       "      <td>Thank you for flagging this and your construct...</td>\n",
       "      <td>bugreports</td>\n",
       "      <td>Opting out of the level-up popups?</td>\n",
       "      <td>https://github.com/zooniverse/Panoptes-Front-E...</td>\n",
       "      <td>NaN</td>\n",
       "      <td>NaN</td>\n",
       "      <td>NaN</td>\n",
       "    </tr>\n",
       "    <tr>\n",
       "      <td>...</td>\n",
       "      <td>...</td>\n",
       "      <td>...</td>\n",
       "      <td>...</td>\n",
       "      <td>...</td>\n",
       "      <td>...</td>\n",
       "      <td>...</td>\n",
       "      <td>...</td>\n",
       "      <td>...</td>\n",
       "    </tr>\n",
       "    <tr>\n",
       "      <td>90496</td>\n",
       "      <td>1604198211-259</td>\n",
       "      <td>Scattered Light comes in many, many guises in ...</td>\n",
       "      <td>virgo</td>\n",
       "      <td>Virgo O3 glitch classes (placeholder)</td>\n",
       "      <td>/projects/zooniverse/gravity-spy/talk/subjects...</td>\n",
       "      <td>NaN</td>\n",
       "      <td>True</td>\n",
       "      <td>NaN</td>\n",
       "    </tr>\n",
       "    <tr>\n",
       "      <td>90497</td>\n",
       "      <td>1604198222-261</td>\n",
       "      <td>For proposing new Virgo glitch classes, please...</td>\n",
       "      <td>virgo</td>\n",
       "      <td>Process for Making New Virgo Classes Official</td>\n",
       "      <td>https://www.zooniverse.org/projects/zooniverse...</td>\n",
       "      <td>NaN</td>\n",
       "      <td>NaN</td>\n",
       "      <td>NaN</td>\n",
       "    </tr>\n",
       "    <tr>\n",
       "      <td>90498</td>\n",
       "      <td>1604198211-260</td>\n",
       "      <td>Horizontal lines at medium to high frequencies...</td>\n",
       "      <td>virgo</td>\n",
       "      <td>Virgo O3 glitch classes (placeholder)</td>\n",
       "      <td>/projects/zooniverse/gravity-spy/talk/subjects...</td>\n",
       "      <td>NaN</td>\n",
       "      <td>True</td>\n",
       "      <td>NaN</td>\n",
       "    </tr>\n",
       "    <tr>\n",
       "      <td>90499</td>\n",
       "      <td>1604198211-257</td>\n",
       "      <td>On a related note, @dziakj1 has discovered (an...</td>\n",
       "      <td>virgo</td>\n",
       "      <td>Virgo O3 glitch classes (placeholder)</td>\n",
       "      <td>/projects/zooniverse/gravity-spy/talk/subjects...</td>\n",
       "      <td>@dziakj1</td>\n",
       "      <td>True</td>\n",
       "      <td>NaN</td>\n",
       "    </tr>\n",
       "    <tr>\n",
       "      <td>90500</td>\n",
       "      <td>1604198211-255</td>\n",
       "      <td>Hello,\\nThis is amazing! Thank you so much for...</td>\n",
       "      <td>virgo</td>\n",
       "      <td>Virgo O3 glitch classes (placeholder)</td>\n",
       "      <td>NaN</td>\n",
       "      <td>NaN</td>\n",
       "      <td>NaN</td>\n",
       "      <td>NaN</td>\n",
       "    </tr>\n",
       "  </tbody>\n",
       "</table>\n",
       "<p>90501 rows × 8 columns</p>\n",
       "</div>"
      ],
      "text/plain": [
       "      web-scraper-order                                               text  \\\n",
       "0        1604198576-694  Hello - yes to the above suggestions. Please p...   \n",
       "1        1604198689-999  hey @team , why is there  audio in the field g...   \n",
       "2        1604198607-767  I should say, you have to be trying to go from...   \n",
       "3        1604198528-563  I believe that there are some problems at the ...   \n",
       "4       1604198895-1630  Thank you for flagging this and your construct...   \n",
       "...                 ...                                                ...   \n",
       "90496    1604198211-259  Scattered Light comes in many, many guises in ...   \n",
       "90497    1604198222-261  For proposing new Virgo glitch classes, please...   \n",
       "90498    1604198211-260  Horizontal lines at medium to high frequencies...   \n",
       "90499    1604198211-257  On a related note, @dziakj1 has discovered (an...   \n",
       "90500    1604198211-255  Hello,\\nThis is amazing! Thank you so much for...   \n",
       "\n",
       "          section                                              topic  \\\n",
       "0      bugreports  Emails from Zooniverse projects now fail to ar...   \n",
       "1      bugreports                               audio in field guide   \n",
       "2      bugreports                                     Frame 4 button   \n",
       "3      bugreports                              Possible level-up bug   \n",
       "4      bugreports                 Opting out of the level-up popups?   \n",
       "...           ...                                                ...   \n",
       "90496       virgo              Virgo O3 glitch classes (placeholder)   \n",
       "90497       virgo      Process for Making New Virgo Classes Official   \n",
       "90498       virgo              Virgo O3 glitch classes (placeholder)   \n",
       "90499       virgo              Virgo O3 glitch classes (placeholder)   \n",
       "90500       virgo              Virgo O3 glitch classes (placeholder)   \n",
       "\n",
       "                                                    urls userMentions isReply  \\\n",
       "0                          https://status.zooniverse.org          NaN     NaN   \n",
       "1                                                    NaN        @team     NaN   \n",
       "2                                                    NaN          NaN     NaN   \n",
       "3                                                    NaN          NaN     NaN   \n",
       "4      https://github.com/zooniverse/Panoptes-Front-E...          NaN     NaN   \n",
       "...                                                  ...          ...     ...   \n",
       "90496  /projects/zooniverse/gravity-spy/talk/subjects...          NaN    True   \n",
       "90497  https://www.zooniverse.org/projects/zooniverse...          NaN     NaN   \n",
       "90498  /projects/zooniverse/gravity-spy/talk/subjects...          NaN    True   \n",
       "90499  /projects/zooniverse/gravity-spy/talk/subjects...     @dziakj1    True   \n",
       "90500                                                NaN          NaN     NaN   \n",
       "\n",
       "      emojis  \n",
       "0        NaN  \n",
       "1        NaN  \n",
       "2        NaN  \n",
       "3        NaN  \n",
       "4        NaN  \n",
       "...      ...  \n",
       "90496    NaN  \n",
       "90497    NaN  \n",
       "90498    NaN  \n",
       "90499    NaN  \n",
       "90500    NaN  \n",
       "\n",
       "[90501 rows x 8 columns]"
      ]
     },
     "execution_count": 21,
     "metadata": {},
     "output_type": "execute_result"
    }
   ],
   "source": [
    "data"
   ]
  },
  {
   "cell_type": "code",
   "execution_count": 22,
   "metadata": {},
   "outputs": [],
   "source": [
    "def r_m(x):\n",
    "    if (x[5]=='nan' and x[6]=='nan'):\n",
    "        x[0]=np.NaN\n",
    "    return x"
   ]
  },
  {
   "cell_type": "code",
   "execution_count": 23,
   "metadata": {},
   "outputs": [
    {
     "data": {
      "text/plain": [
       "True"
      ]
     },
     "execution_count": 23,
     "metadata": {},
     "output_type": "execute_result"
    }
   ],
   "source": [
    "import math\n",
    "math.isnan(data['userMentions'][0])"
   ]
  },
  {
   "cell_type": "code",
   "execution_count": 24,
   "metadata": {},
   "outputs": [],
   "source": [
    "def isNaN(x):\n",
    "    return str(x).lower()"
   ]
  },
  {
   "cell_type": "code",
   "execution_count": 25,
   "metadata": {},
   "outputs": [],
   "source": [
    "data['userMentions'] = data['userMentions'].apply(lambda x: isNaN(x))\n",
    "data['isReply'] = data['isReply'].apply(lambda x: isNaN(x))"
   ]
  },
  {
   "cell_type": "code",
   "execution_count": 26,
   "metadata": {},
   "outputs": [],
   "source": [
    "r_m_d = data.apply(lambda x: r_m(x),axis=1)"
   ]
  },
  {
   "cell_type": "code",
   "execution_count": 27,
   "metadata": {},
   "outputs": [],
   "source": [
    "r_m_d['web-scraper-order']=r_m_d['web-scraper-order'].apply(lambda x: isNaN(x))"
   ]
  },
  {
   "cell_type": "code",
   "execution_count": 10,
   "metadata": {},
   "outputs": [],
   "source": [
    "d =r_m_d[r_m_d['web-scraper-order']!='nan']"
   ]
  },
  {
   "cell_type": "code",
   "execution_count": 13,
   "metadata": {},
   "outputs": [],
   "source": []
  },
  {
   "cell_type": "code",
   "execution_count": 28,
   "metadata": {},
   "outputs": [],
   "source": [
    "pred =[]\n",
    "for i in range(0,len(data)):\n",
    "    if r_m_d['web-scraper-order'][i]!='nan':\n",
    "        pred.append(0)\n",
    "    else:\n",
    "        pred.append(1)"
   ]
  },
  {
   "cell_type": "code",
   "execution_count": 29,
   "metadata": {},
   "outputs": [
    {
     "data": {
      "text/plain": [
       "90501"
      ]
     },
     "execution_count": 29,
     "metadata": {},
     "output_type": "execute_result"
    }
   ],
   "source": [
    "len(pred)"
   ]
  },
  {
   "cell_type": "code",
   "execution_count": 30,
   "metadata": {},
   "outputs": [],
   "source": [
    "pd.DataFrame({'refertoother':pred}).to_csv('refertoother.csv')"
   ]
  },
  {
   "cell_type": "code",
   "execution_count": null,
   "metadata": {},
   "outputs": [],
   "source": []
  }
 ],
 "metadata": {
  "kernelspec": {
   "display_name": "Python 3",
   "language": "python",
   "name": "python3"
  },
  "language_info": {
   "codemirror_mode": {
    "name": "ipython",
    "version": 3
   },
   "file_extension": ".py",
   "mimetype": "text/x-python",
   "name": "python",
   "nbconvert_exporter": "python",
   "pygments_lexer": "ipython3",
   "version": "3.7.4"
  }
 },
 "nbformat": 4,
 "nbformat_minor": 2
}
